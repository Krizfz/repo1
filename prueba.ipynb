{
 "cells": [
  {
   "cell_type": "code",
   "execution_count": 30,
   "metadata": {},
   "outputs": [],
   "source": [
    "import numpy as np"
   ]
  },
  {
   "cell_type": "code",
   "execution_count": 157,
   "metadata": {},
   "outputs": [
    {
     "name": "stdout",
     "output_type": "stream",
     "text": [
      "[['|_|' '|_|' '|_|' '|_|' '|_|' '|_|' '|_|' '|_|' '|_|' '|_|']\n",
      " ['|_|' '|_|' '|_|' '|_|' '|_|' '|_|' '|_|' '|_|' '|_|' '|_|']\n",
      " ['|_|' '|_|' '|_|' '|_|' '|_|' '|_|' '|_|' '|_|' '|_|' '|_|']\n",
      " ['|_|' '|_|' '|_|' '|_|' '|_|' '|_|' '|_|' '|_|' '|_|' '|_|']\n",
      " ['|_|' '|_|' '|_|' '|_|' '|_|' '|_|' '|_|' '|_|' '|_|' '|_|']\n",
      " ['|_|' '|_|' '|_|' '|_|' '|_|' '|_|' '|_|' '|_|' '|_|' '|_|']\n",
      " ['|_|' '|_|' '|_|' '|_|' '|_|' '|_|' '|_|' '|_|' '|_|' '|_|']\n",
      " ['|_|' '|_|' '|_|' '|_|' '|_|' '|_|' '|_|' '|_|' '|_|' '|_|']\n",
      " ['|_|' '|_|' '|_|' '|_|' '|_|' '|_|' '|_|' '|_|' '|_|' '|_|']\n",
      " ['|_|' '|_|' '|_|' '|_|' '|_|' '|_|' '|_|' '|_|' '|_|' '|_|']]\n"
     ]
    }
   ],
   "source": [
    "tablero = np.full((10, 10), '|_|')\n",
    "print(tablero)"
   ]
  },
  {
   "cell_type": "code",
   "execution_count": 156,
   "metadata": {},
   "outputs": [
    {
     "name": "stdout",
     "output_type": "stream",
     "text": [
      "[['|_|' '|_|' '|_|' '|_|' '|_|' '|_|' '|_|' '|_|' '|_|' '|_|']\n",
      " ['|_|' '|_|' '|_|' '|_|' '|_|' '|_|' '|_|' '|_|' '|_|' '|_|']\n",
      " ['|_|' '|_|' '|_|' '|_|' '|_|' '|_|' '|_|' '|_|' '|_|' '|_|']\n",
      " ['|_|' '|_|' '|_|' '|_|' '|_|' '|_|' '|_|' '|_|' '|_|' '|_|']\n",
      " ['|_|' '|_|' '|_|' '|_|' '|_|' '|_|' '|_|' '|_|' '|_|' '|_|']\n",
      " ['|_|' '|_|' '|_|' '|_|' '|_|' '|_|' '|_|' '|_|' '|_|' '|_|']\n",
      " ['|_|' '|_|' '|_|' '|_|' '|_|' '|_|' '|_|' '|_|' '|_|' '|_|']\n",
      " ['|_|' '|_|' '|_|' '|_|' '|_|' '|_|' '|_|' '|_|' '|_|' '|_|']\n",
      " ['|_|' '|_|' '|_|' '|_|' '|_|' '|_|' '|_|' '|_|' '|_|' '|_|']\n",
      " ['|_|' '|_|' '|_|' '|_|' '|_|' '|_|' '|_|' '|_|' '|_|' '|_|']]\n"
     ]
    }
   ],
   "source": [
    "barco_1 = [(0, 0)]\n",
    "barco_2 = [(0, 0), (0, 1)]\n",
    "barco_3 = [(0, 0), (0, 1), (1, 1)]\n",
    "barco_4 = [(0, 0), (0, 1), (1, 1), (2, 2)]\n",
    "\n",
    "\n",
    "#tablero[(0, 0), (3, 3)] = \" 4 \"\n",
    "\n",
    "\n",
    "\n",
    "print(tablero)\n"
   ]
  },
  {
   "cell_type": "code",
   "execution_count": 158,
   "metadata": {},
   "outputs": [
    {
     "name": "stdout",
     "output_type": "stream",
     "text": [
      "[[' B ' ' B ' '|_|' '|_|' '|_|' '|_|' '|_|' '|_|' '|_|' '|_|']\n",
      " ['|_|' ' B ' '|_|' '|_|' '|_|' '|_|' '|_|' '|_|' '|_|' '|_|']\n",
      " ['|_|' '|_|' ' B ' '|_|' '|_|' '|_|' '|_|' '|_|' '|_|' '|_|']\n",
      " ['|_|' '|_|' '|_|' '|_|' '|_|' '|_|' '|_|' '|_|' '|_|' '|_|']\n",
      " ['|_|' '|_|' '|_|' '|_|' '|_|' '|_|' '|_|' '|_|' '|_|' '|_|']\n",
      " ['|_|' '|_|' '|_|' '|_|' '|_|' '|_|' '|_|' '|_|' '|_|' '|_|']\n",
      " ['|_|' '|_|' '|_|' '|_|' '|_|' '|_|' '|_|' '|_|' '|_|' '|_|']\n",
      " ['|_|' '|_|' '|_|' '|_|' '|_|' '|_|' '|_|' '|_|' '|_|' '|_|']\n",
      " ['|_|' '|_|' '|_|' '|_|' '|_|' '|_|' '|_|' '|_|' '|_|' '|_|']\n",
      " ['|_|' '|_|' '|_|' '|_|' '|_|' '|_|' '|_|' '|_|' '|_|' '|_|']]\n"
     ]
    }
   ],
   "source": [
    "lista_barcos = [barco_1, barco_2, barco_3, barco_4]\n",
    "\n",
    "#tablero[np.random.randint(0, 10)] = \"|X_|\"\n",
    "\n",
    "\n",
    "for i in lista_barcos:\n",
    "    for j in i:\n",
    "        tablero[j] = \" B \"\n",
    "\n",
    "print(tablero)\n"
   ]
  },
  {
   "cell_type": "code",
   "execution_count": 160,
   "metadata": {},
   "outputs": [
    {
     "name": "stdout",
     "output_type": "stream",
     "text": [
      "Has acertado!\n",
      "[[' B ' ' B ' '|_|' '|_|' '|_|' '|_|' '|_|' '|_|' '|_|' '|_|']\n",
      " ['|_|' ' X ' '|_|' '|_|' '|_|' '|_|' '|_|' '|_|' '|_|' '|_|']\n",
      " ['|_|' '|_|' ' B ' '|_|' '|_|' '|_|' '|_|' '|_|' '|_|' '|_|']\n",
      " ['|_|' '|_|' '|_|' '|_|' '|_|' '|_|' '|_|' '|_|' '|_|' '|_|']\n",
      " ['|_|' '|_|' '|_|' '|_|' '|_|' '|_|' '|_|' '|_|' '|_|' '|_|']\n",
      " ['|_|' '|_|' '|_|' '|_|' '|_|' '|_|' '|_|' '|_|' '|_|' '|_|']\n",
      " ['|_|' '|_|' '|_|' '|_|' '|_|' '|_|' '|_|' '|_|' '|_|' '|_|']\n",
      " ['|_|' '|_|' '|_|' '|_|' '|_|' '|_|' '|_|' '|_|' '|_|' '|_|']\n",
      " ['|_|' '|_|' '|_|' '|_|' '|_|' '|_|' '|_|' '|_|' '|_|' '|_|']\n",
      " ['|_|' '|_|' '|_|' '|_|' '|_|' '|_|' '|_|' '|_|' '|_|' '|_|']]\n"
     ]
    }
   ],
   "source": [
    "coord_x = int(input(\"Dame la coordenada X:\"))\n",
    "coord_y = int(input(\"Dame la coordenada Y:\"))\n",
    "\n",
    "\n",
    "if tablero[coord_x, coord_y] == \" B \":\n",
    "    tablero[coord_x, coord_y] = \" X \"\n",
    "    print(\"Has acertado!\")\n",
    "\n",
    "elif tablero[coord_x, coord_y] == \"|_|\":\n",
    "    tablero[coord_x, coord_y] = \" 0 \"\n",
    "    print(\"Has fallado!\")\n",
    "\n",
    "else:\n",
    "    print(\"Has repetido el disparo.\")\n",
    "\n",
    "print(tablero)"
   ]
  },
  {
   "cell_type": "code",
   "execution_count": 213,
   "metadata": {},
   "outputs": [
    {
     "name": "stdout",
     "output_type": "stream",
     "text": [
      "S\n",
      "[['|_|' '|_|' '|_|' '|_|' '|_|' '|_|' '|_|' '|_|' '|_|' '|_|']\n",
      " ['|_|' '|_|' '|_|' '|_|' '|_|' '|_|' '|_|' '|_|' '|_|' '|_|']\n",
      " ['|_|' '|_|' '|_|' '|_|' '|_|' '|_|' '|_|' '|_|' '|_|' ' O ']\n",
      " ['|_|' '|_|' '|_|' '|_|' '|_|' '|_|' '|_|' '|_|' '|_|' ' O ']\n",
      " ['|_|' '|_|' '|_|' '|_|' '|_|' '|_|' '|_|' '|_|' '|_|' ' O ']\n",
      " ['|_|' '|_|' '|_|' '|_|' '|_|' '|_|' '|_|' '|_|' '|_|' ' O ']\n",
      " ['|_|' '|_|' '|_|' '|_|' '|_|' '|_|' '|_|' '|_|' '|_|' '|_|']\n",
      " ['|_|' '|_|' '|_|' '|_|' '|_|' '|_|' '|_|' '|_|' '|_|' '|_|']\n",
      " ['|_|' '|_|' '|_|' '|_|' '|_|' '|_|' '|_|' '|_|' '|_|' '|_|']\n",
      " ['|_|' '|_|' '|_|' '|_|' '|_|' '|_|' '|_|' '|_|' '|_|' '|_|']]\n"
     ]
    }
   ],
   "source": [
    "size = 4\n",
    "coord_x_tab = np.random.randint(0, 10)\n",
    "coord_y_tab = np.random.randint(0, 10)\n",
    "\n",
    "orien = np.random.choice([\"E\", \"S\"])\n",
    "\n",
    "if orien == \"E\":\n",
    "    tablero[coord_x_tab, coord_y_tab:coord_y_tab + size] = \" O \"\n",
    "\n",
    "elif orien == \"S\":\n",
    "    tablero[coord_x_tab:coord_x_tab + size, coord_y_tab] = \" O \"\n",
    "\n",
    "print(orien)\n",
    "\n",
    "print(tablero)"
   ]
  },
  {
   "cell_type": "code",
   "execution_count": 216,
   "metadata": {},
   "outputs": [],
   "source": [
    "#función\n",
    "\n",
    "\n",
    "def init_tablero(size = (10, 10), fill = \"|_|\"):\n",
    "    tablero = np.full(size, fill)\n",
    "    return tablero"
   ]
  },
  {
   "cell_type": "code",
   "execution_count": 217,
   "metadata": {},
   "outputs": [
    {
     "name": "stdout",
     "output_type": "stream",
     "text": [
      "[['|_|' '|_|' '|_|' '|_|' '|_|' '|_|' '|_|' '|_|' '|_|' '|_|']\n",
      " ['|_|' '|_|' '|_|' '|_|' '|_|' '|_|' '|_|' '|_|' '|_|' '|_|']\n",
      " ['|_|' '|_|' '|_|' '|_|' '|_|' '|_|' '|_|' '|_|' '|_|' '|_|']\n",
      " ['|_|' '|_|' '|_|' '|_|' '|_|' '|_|' '|_|' '|_|' '|_|' '|_|']\n",
      " ['|_|' '|_|' '|_|' '|_|' '|_|' '|_|' '|_|' '|_|' '|_|' '|_|']\n",
      " ['|_|' '|_|' '|_|' '|_|' '|_|' '|_|' '|_|' '|_|' '|_|' '|_|']\n",
      " ['|_|' '|_|' '|_|' '|_|' '|_|' '|_|' '|_|' '|_|' '|_|' '|_|']\n",
      " ['|_|' '|_|' '|_|' '|_|' '|_|' '|_|' '|_|' '|_|' '|_|' '|_|']\n",
      " ['|_|' '|_|' '|_|' '|_|' '|_|' '|_|' '|_|' '|_|' '|_|' '|_|']\n",
      " ['|_|' '|_|' '|_|' '|_|' '|_|' '|_|' '|_|' '|_|' '|_|' '|_|']]\n"
     ]
    }
   ],
   "source": [
    "print(init_tablero())"
   ]
  },
  {
   "cell_type": "code",
   "execution_count": 219,
   "metadata": {},
   "outputs": [],
   "source": [
    "def colocar_barco(tablero, size = 4):\n",
    "    coord_x_tab = int(np.random.randint(0, 10))\n",
    "    coord_y_tab = int(np.random.randint(0, 10))\n",
    "\n",
    "    orien = np.random.choice([\"E\", \"S\"])\n",
    "    print(\"Orien:\", orien)\n",
    "    print(\"Coord_x:\", coord_x_tab, \"Coord_y:\", coord_y_tab)\n",
    "    if orien == \"E\":\n",
    "        tablero[coord_x_tab, coord_y_tab:coord_y_tab + size] = \"O\"\n",
    "\n",
    "    elif orien == \"S\":\n",
    "        tablero[coord_x_tab:coord_x_tab + size, coord_y_tab] = \"O\""
   ]
  },
  {
   "cell_type": "code",
   "execution_count": 220,
   "metadata": {},
   "outputs": [
    {
     "name": "stdout",
     "output_type": "stream",
     "text": [
      "Orien: E\n",
      "Coord_x: 4 Coord_y: 1\n"
     ]
    }
   ],
   "source": [
    "tablero = init_tablero()\n",
    "\n",
    "colocar_barco(tablero=tablero)"
   ]
  },
  {
   "cell_type": "code",
   "execution_count": 221,
   "metadata": {},
   "outputs": [
    {
     "name": "stdout",
     "output_type": "stream",
     "text": [
      "[['|_|' '|_|' '|_|' '|_|' '|_|' '|_|' '|_|' '|_|' '|_|' '|_|']\n",
      " ['|_|' '|_|' '|_|' '|_|' '|_|' '|_|' '|_|' '|_|' '|_|' '|_|']\n",
      " ['|_|' '|_|' '|_|' '|_|' '|_|' '|_|' '|_|' '|_|' '|_|' '|_|']\n",
      " ['|_|' '|_|' '|_|' '|_|' '|_|' '|_|' '|_|' '|_|' '|_|' '|_|']\n",
      " ['|_|' 'O' 'O' 'O' 'O' '|_|' '|_|' '|_|' '|_|' '|_|']\n",
      " ['|_|' '|_|' '|_|' '|_|' '|_|' '|_|' '|_|' '|_|' '|_|' '|_|']\n",
      " ['|_|' '|_|' '|_|' '|_|' '|_|' '|_|' '|_|' '|_|' '|_|' '|_|']\n",
      " ['|_|' '|_|' '|_|' '|_|' '|_|' '|_|' '|_|' '|_|' '|_|' '|_|']\n",
      " ['|_|' '|_|' '|_|' '|_|' '|_|' '|_|' '|_|' '|_|' '|_|' '|_|']\n",
      " ['|_|' '|_|' '|_|' '|_|' '|_|' '|_|' '|_|' '|_|' '|_|' '|_|']]\n"
     ]
    }
   ],
   "source": [
    "print(tablero)"
   ]
  },
  {
   "cell_type": "code",
   "execution_count": 223,
   "metadata": {},
   "outputs": [],
   "source": [
    "def disparar(tablero):\n",
    "    coord_x = int(input(\"Coord X:\"))\n",
    "    coord_y = int(input(\"Coord Y:\"))\n",
    "\n",
    "    if tablero[coord_x, coord_y] == \" O \":\n",
    "        tablero[coord_x, coord_y] = \" X \"\n",
    "        print(\"Has acertado!\")\n",
    "\n",
    "    elif tablero[coord_x, coord_y] == \"  \":\n",
    "        tablero[coord_x, coord_y] = \" - \"\n",
    "        print(\"Has fallado!\")\n",
    "\n",
    "    else:\n",
    "        print(\"Has repetido el disparo.\")\n",
    "\n",
    "    print(tablero)"
   ]
  }
 ],
 "metadata": {
  "kernelspec": {
   "display_name": "Python 3",
   "language": "python",
   "name": "python3"
  },
  "language_info": {
   "codemirror_mode": {
    "name": "ipython",
    "version": 3
   },
   "file_extension": ".py",
   "mimetype": "text/x-python",
   "name": "python",
   "nbconvert_exporter": "python",
   "pygments_lexer": "ipython3",
   "version": "3.12.1"
  }
 },
 "nbformat": 4,
 "nbformat_minor": 2
}
